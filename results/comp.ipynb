{
 "cells": [
  {
   "cell_type": "code",
   "execution_count": 1,
   "id": "6ef29d4d",
   "metadata": {},
   "outputs": [],
   "source": [
    "import pandas as pd\n",
    "from collections import Counter\n",
    "import numpy as np"
   ]
  },
  {
   "cell_type": "code",
   "execution_count": 77,
   "id": "cad3c479",
   "metadata": {},
   "outputs": [
    {
     "name": "stdout",
     "output_type": "stream",
     "text": [
      "--- 比較結果 ---\n",
      "MMの勝利数: 33回\n",
      "MatCoの勝利数: 17回\n",
      "引き分け数: 0回\n",
      "--------------------\n",
      "File1が勝利した時のEngineの内訳:\n",
      "- MM: 10回\n",
      "- MMN: 13回\n",
      "- MMI: 10回\n"
     ]
    }
   ],
   "source": [
    "df1 = pd.read_csv('MM_eu_32.csv')\n",
    "df2 = pd.read_csv('MC_eu_gen_32.csv')\n",
    "\n",
    "# 1. file2から各(data, query)グループのcoverage_per_time最大値を持つ行を取得\n",
    "df2_best = df2.sort_values('coverage_per_time', ascending=False).drop_duplicates(subset=['data', 'query'])\n",
    "\n",
    "# 2. 2つのDataFrameを'data'と'query'をキーとして結合\n",
    "# どのファイル由来の列か分かるように、接尾辞(suffixes)を追加\n",
    "merged_df = pd.merge(\n",
    "    df1[['data', 'query', 'engine_1', 'coverage_per_time_1']],\n",
    "    df2_best[['data', 'query', 'coverage_per_time']],\n",
    "    on=['data', 'query'],\n",
    "    suffixes=('_file1', '_file2')\n",
    ")\n",
    "\n",
    "# 3. 勝敗を記録するための変数を初期化\n",
    "file1_wins = 0\n",
    "file2_wins = 0\n",
    "ties = 0\n",
    "file1_winning_engines = []\n",
    "\n",
    "# 4. 結合したDataFrameを1行ずつ比較\n",
    "for index, row in merged_df.iterrows():\n",
    "    val1 = row['coverage_per_time_1']\n",
    "    val2 = row['coverage_per_time']\n",
    "\n",
    "    if val1 > val2:\n",
    "        file1_wins += 1\n",
    "        # file1が勝った場合、その時のengine_1を記録\n",
    "        file1_winning_engines.append(row['engine_1'])\n",
    "    elif val2 > val1:\n",
    "        file2_wins += 1\n",
    "    else:\n",
    "        ties += 1\n",
    "\n",
    "# 5. 結果の表示\n",
    "print(\"--- 比較結果 ---\")\n",
    "print(f\"MMの勝利数: {file1_wins}回\")\n",
    "print(f\"MatCoの勝利数: {file2_wins}回\")\n",
    "print(f\"引き分け数: {ties}回\")\n",
    "print(\"-\" * 20)\n",
    "\n",
    "if file1_wins > 0:\n",
    "    # 勝利したengineの種類と回数を集計\n",
    "    engine_counts = Counter(file1_winning_engines)\n",
    "    print(\"File1が勝利した時のEngineの内訳:\")\n",
    "    for engine, count in engine_counts.items():\n",
    "        print(f\"- {engine}: {count}回\")"
   ]
  },
  {
   "cell_type": "code",
   "execution_count": 78,
   "id": "67ab301c",
   "metadata": {},
   "outputs": [],
   "source": [
    "# df1 = pd.read_csv('MM_yt_32.csv')\n",
    "# df2 = pd.read_csv('MC_yt_gen_32.csv')\n",
    "\n",
    "merged_df = pd.merge(\n",
    "    df1[['data', 'query', 'engine_1', 'engine_2', 'engine_3','coverage_per_time_1', 'coverage_per_time_2', 'coverage_per_time_3']],\n",
    "    df2[['data', 'query', 'coverage_per_time']],\n",
    "    on=['data', 'query']\n",
    ")"
   ]
  },
  {
   "cell_type": "code",
   "execution_count": 79,
   "id": "4b4db72c",
   "metadata": {},
   "outputs": [
    {
     "data": {
      "text/plain": [
       "np.float64(76.11944295133496)"
      ]
     },
     "execution_count": 79,
     "metadata": {},
     "output_type": "execute_result"
    }
   ],
   "source": [
    "target_cols = ['coverage_per_time_1', 'coverage_per_time_2', 'coverage_per_time_3', 'coverage_per_time']\n",
    "\n",
    "max_vals = merged_df[target_cols].max(axis=1)\n",
    "min_vals = merged_df[target_cols].min(axis=1)\n",
    "\n",
    "merged_df['coverage_variation'] = (max_vals - min_vals) * 100 / max_vals\n",
    "\n",
    "merged_df['coverage_variation'] = merged_df['coverage_variation'].fillna(0)\n",
    "\n",
    "merged_df['coverage_variation'].mean()\n"
   ]
  },
  {
   "cell_type": "code",
   "execution_count": 80,
   "id": "217d2c56",
   "metadata": {},
   "outputs": [
    {
     "data": {
      "text/plain": [
       "np.float64(58.16743966997133)"
      ]
     },
     "execution_count": 80,
     "metadata": {},
     "output_type": "execute_result"
    }
   ],
   "source": [
    "# 対象となる列のリストを定義\n",
    "target_cols = ['coverage_per_time_1', 'coverage_per_time_2', 'coverage_per_time_3']\n",
    "\n",
    "# 各行における最大値と最小値を取得 (axis=1で行方向の操作を指定)\n",
    "max_vals = merged_df[target_cols].max(axis=1)\n",
    "min_vals = merged_df[target_cols].min(axis=1)\n",
    "\n",
    "# (最大値 - 最小値) / 最大値 を計算し、新しい列 'coverage_variation' として追加\n",
    "merged_df['coverage_variation'] = (max_vals - min_vals) * 100 / max_vals\n",
    "\n",
    "# 最大値が0の場合に発生するNaN(Not a Number)を0で置換\n",
    "merged_df['coverage_variation'] = merged_df['coverage_variation'].fillna(0)\n",
    "\n",
    "# 結果の確認\n",
    "merged_df['coverage_variation'].mean()\n"
   ]
  },
  {
   "cell_type": "code",
   "execution_count": 81,
   "id": "01184acd",
   "metadata": {},
   "outputs": [
    {
     "name": "stdout",
     "output_type": "stream",
     "text": [
      "各順位の平均値:\n",
      "   1番目に小さい値の平均  2番目に小さい値の平均  3番目に小さい値の平均  4番目に小さい値の平均\n",
      "0     0.004743     0.014109     0.018993     0.022928\n"
     ]
    }
   ],
   "source": [
    "target_cols = ['coverage_per_time_1', 'coverage_per_time_2', 'coverage_per_time_3', 'coverage_per_time']\n",
    "\n",
    "# 1. target_colsの値をNumPy配列として抽出\n",
    "values = merged_df[target_cols].values\n",
    "\n",
    "# 2. 各行を小さい順に並べ替え (axis=1で行方向を指定)\n",
    "sorted_values = np.sort(values, axis=1)\n",
    "\n",
    "# 3. 各順位（列）の平均値を計算 (axis=0で列方向を指定)\n",
    "rank_averages = np.mean(sorted_values, axis=0)\n",
    "\n",
    "# 結果を分かりやすく表示\n",
    "results = {\n",
    "    \"1番目に小さい値の平均\": rank_averages[0],\n",
    "    \"2番目に小さい値の平均\": rank_averages[1],\n",
    "    \"3番目に小さい値の平均\": rank_averages[2],\n",
    "    \"4番目に小さい値の平均\": rank_averages[3]\n",
    "}\n",
    "\n",
    "# 結果をDataFrameに変換して表示\n",
    "results_df = pd.DataFrame([results])\n",
    "print(\"各順位の平均値:\")\n",
    "print(results_df)\n"
   ]
  }
 ],
 "metadata": {
  "kernelspec": {
   "display_name": "Python 3",
   "language": "python",
   "name": "python3"
  },
  "language_info": {
   "codemirror_mode": {
    "name": "ipython",
    "version": 3
   },
   "file_extension": ".py",
   "mimetype": "text/x-python",
   "name": "python",
   "nbconvert_exporter": "python",
   "pygments_lexer": "ipython3",
   "version": "3.10.12"
  }
 },
 "nbformat": 4,
 "nbformat_minor": 5
}
