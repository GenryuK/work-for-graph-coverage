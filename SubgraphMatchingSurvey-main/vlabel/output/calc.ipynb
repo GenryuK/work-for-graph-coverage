{
 "cells": [
  {
   "cell_type": "code",
   "execution_count": 1,
   "id": "052876c6",
   "metadata": {},
   "outputs": [],
   "source": [
    "import pandas as pd"
   ]
  },
  {
   "cell_type": "code",
   "execution_count": 4,
   "id": "200a58b2",
   "metadata": {},
   "outputs": [
    {
     "name": "stdout",
     "output_type": "stream",
     "text": [
      "エンジンごとのtotal_timeとcoverageの平均値:\n",
      "        total_time  coverage\n",
      "filter                      \n",
      "LDF     200.176096    201.54\n",
      "NON     209.679466    201.54\n",
      "VEQ     200.934055    201.54\n"
     ]
    }
   ],
   "source": [
    "df = pd.read_csv(\"memo4.csv\")\n",
    "\n",
    "average_values = df.groupby('filter')[['total_time', 'coverage']].mean()\n",
    "\n",
    "print(\"エンジンごとのtotal_timeとcoverageの平均値:\")\n",
    "print(average_values)\n"
   ]
  }
 ],
 "metadata": {
  "kernelspec": {
   "display_name": "Python 3",
   "language": "python",
   "name": "python3"
  },
  "language_info": {
   "codemirror_mode": {
    "name": "ipython",
    "version": 3
   },
   "file_extension": ".py",
   "mimetype": "text/x-python",
   "name": "python",
   "nbconvert_exporter": "python",
   "pygments_lexer": "ipython3",
   "version": "3.10.12"
  }
 },
 "nbformat": 4,
 "nbformat_minor": 5
}
