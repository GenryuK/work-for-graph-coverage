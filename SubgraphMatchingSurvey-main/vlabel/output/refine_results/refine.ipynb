{
 "cells": [
  {
   "cell_type": "code",
   "execution_count": 1,
   "id": "0627ba29",
   "metadata": {},
   "outputs": [],
   "source": [
    "import pandas as pd"
   ]
  },
  {
   "cell_type": "code",
   "execution_count": 11,
   "id": "4baf7c37",
   "metadata": {},
   "outputs": [
    {
     "name": "stdout",
     "output_type": "stream",
     "text": [
      "処理が完了しました！'/home/kuraya/ML_coverage/results/MM_eu_32.csv' として保存されました。\n",
      "\n",
      "--- 変換後のデータ（最初の数行） ---\n",
      "     data       query filter order  mem_cost  coverage engine_1 engine_2  \\\n",
      "0  eu2005  query_32_1    VEQ   CFL    649552       697       MM      MMN   \n",
      "1  eu2005  query_32_2    VEQ   CFL    712212       995      MMN       MM   \n",
      "2  eu2005  query_32_3    VEQ   CFL    472212      1173       MM      MMN   \n",
      "3  eu2005  query_32_4    VEQ   CFL   2375120      5452      MMN       MM   \n",
      "4  eu2005  query_32_5    VEQ   CFL    525576       692      MMI      MMN   \n",
      "\n",
      "  engine_3 preproc_time_1 preproc_time_2 preproc_time_3 total_time_1  \\\n",
      "0      MMI        1119.94        1188.05        1196.69       101125   \n",
      "1      MMI        1429.62        1473.91        1439.47       101431   \n",
      "2      MMI        1121.34        1126.51        1109.26       101123   \n",
      "3      MMI        2302.93         2341.0        2283.05       102307   \n",
      "4       MM        1227.97        1228.79        1255.25       101229   \n",
      "\n",
      "  total_time_2 total_time_3 coverage_per_time_1 coverage_per_time_2  \\\n",
      "0       101189       101198            0.006892            0.006888   \n",
      "1       101479       101444             0.00981            0.009805   \n",
      "2       101128       101111              0.0116            0.011599   \n",
      "3       102345       102288            0.053291            0.053271   \n",
      "4       101234       101260            0.006856            0.006836   \n",
      "\n",
      "  coverage_per_time_3  \n",
      "0             0.00582  \n",
      "1            0.000631  \n",
      "2            0.001256  \n",
      "3            0.010275  \n",
      "4            0.006834  \n"
     ]
    }
   ],
   "source": [
    "q_size = 32\n",
    "input_file = f'eu_gen_{q_size}.csv'  \n",
    "df = pd.read_csv(input_file)\n",
    "\n",
    "df_sorted = df.sort_values(by=['data', 'query', 'coverage_per_time'], ascending=[True, True, False])\n",
    "\n",
    "df_sorted['rank'] = df_sorted.groupby(['data', 'query']).cumcount() + 1\n",
    "\n",
    "df_pivoted = df_sorted.pivot(\n",
    "    index=['data', 'query'],\n",
    "    columns='rank',\n",
    "    values=['engine', 'preproc_time', 'total_time', 'coverage_per_time']\n",
    ")\n",
    "\n",
    "df_pivoted.columns = [f'{val}_{rank}' for val, rank in df_pivoted.columns]\n",
    "df_pivoted = df_pivoted.reset_index()\n",
    "\n",
    "static_cols = df[['data', 'query', 'filter', 'order', 'mem_cost', 'coverage']].drop_duplicates(subset=['data', 'query'])\n",
    "\n",
    "final_df = pd.merge(static_cols, df_pivoted, on=['data', 'query'])\n",
    "\n",
    "output_filename = f'/home/kuraya/ML_coverage/results/MM_eu_{q_size}.csv'\n",
    "final_df.to_csv(output_filename, index=False)\n",
    "\n",
    "print(f\"処理が完了しました！'{output_filename}' として保存されました。\")\n",
    "print(\"\\n--- 変換後のデータ（最初の数行） ---\")\n",
    "print(final_df.head())"
   ]
  },
  {
   "cell_type": "code",
   "execution_count": 3,
   "id": "7d188ce5",
   "metadata": {},
   "outputs": [
    {
     "data": {
      "text/plain": [
       "'/home/kuraya/MandM/Mix-Match/SubgraphMatchingSurvey-main/vlabel/output/refine_results'"
      ]
     },
     "execution_count": 3,
     "metadata": {},
     "output_type": "execute_result"
    }
   ],
   "source": [
    "import os\n",
    "os.getcwd()"
   ]
  }
 ],
 "metadata": {
  "kernelspec": {
   "display_name": "Python 3",
   "language": "python",
   "name": "python3"
  },
  "language_info": {
   "codemirror_mode": {
    "name": "ipython",
    "version": 3
   },
   "file_extension": ".py",
   "mimetype": "text/x-python",
   "name": "python",
   "nbconvert_exporter": "python",
   "pygments_lexer": "ipython3",
   "version": "3.10.12"
  }
 },
 "nbformat": 4,
 "nbformat_minor": 5
}
